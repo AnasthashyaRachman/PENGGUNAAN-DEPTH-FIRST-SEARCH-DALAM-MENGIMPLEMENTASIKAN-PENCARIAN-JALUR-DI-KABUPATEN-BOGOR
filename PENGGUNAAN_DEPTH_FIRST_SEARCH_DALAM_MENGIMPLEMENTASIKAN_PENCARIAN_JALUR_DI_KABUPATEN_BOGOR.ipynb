{
  "nbformat": 4,
  "nbformat_minor": 0,
  "metadata": {
    "colab": {
      "provenance": []
    },
    "kernelspec": {
      "name": "python3",
      "display_name": "Python 3"
    },
    "language_info": {
      "name": "python"
    }
  },
  "cells": [
    {
      "cell_type": "code",
      "source": [
        "graph1 = {'Tanah_Sareal':(['Bogor_Utara', 'Bogor_Barat']),\n",
        "          'Bogor_Utara':(['Cimahpar', 'Bantarjati']),\n",
        "          'Bogor_Barat':([]),\n",
        "          'Bantarjati':(['Bogor_Tengah']),\n",
        "          'Cimahpar':(['Bogor_Timur']),\n",
        "          'Bogor_Tengah':(['Baranangsiang', 'Pasirkuda']),\n",
        "          'Pasirkuda':(['Cikaret']),\n",
        "          'Baranangsiang':([]),\n",
        "          'Cikaret':([]),\n",
        "          'Bogor_Timur':(['Sindangrasa', 'Ranggamekar']),\n",
        "          'Ranggamekar':(['Bogor_Selatan']),\n",
        "          'Sindangrasa':(['Harjasari']),\n",
        "          'Bogor_Selatan':(['Kertamaya', 'Pamoyaman']),\n",
        "          'Harjasari':([]),\n",
        "          'Pamoyaman':([]),\n",
        "          'Kertamaya':([])}"
      ],
      "metadata": {
        "id": "_wL67rHbXlEy"
      },
      "execution_count": 1,
      "outputs": []
    },
    {
      "cell_type": "code",
      "execution_count": 2,
      "metadata": {
        "colab": {
          "base_uri": "https://localhost:8080/"
        },
        "id": "E9hhLpKYXiSZ",
        "outputId": "757a8275-688d-4e51-bf65-7f24de11c717"
      },
      "outputs": [
        {
          "output_type": "stream",
          "name": "stdout",
          "text": [
            "stack [['Tanah_Sareal']]\n",
            "stack [['Tanah_Sareal', 'Bogor_Barat'], ['Tanah_Sareal', 'Bogor_Utara']]\n",
            "stack [['Tanah_Sareal', 'Bogor_Utara']]\n",
            "stack [['Tanah_Sareal', 'Bogor_Utara', 'Bantarjati'], ['Tanah_Sareal', 'Bogor_Utara', 'Cimahpar']]\n",
            "stack [['Tanah_Sareal', 'Bogor_Utara', 'Bantarjati', 'Bogor_Tengah'], ['Tanah_Sareal', 'Bogor_Utara', 'Cimahpar']]\n",
            "stack [['Tanah_Sareal', 'Bogor_Utara', 'Bantarjati', 'Bogor_Tengah', 'Pasirkuda'], ['Tanah_Sareal', 'Bogor_Utara', 'Bantarjati', 'Bogor_Tengah', 'Baranangsiang'], ['Tanah_Sareal', 'Bogor_Utara', 'Cimahpar']]\n",
            "stack [['Tanah_Sareal', 'Bogor_Utara', 'Bantarjati', 'Bogor_Tengah', 'Pasirkuda', 'Cikaret'], ['Tanah_Sareal', 'Bogor_Utara', 'Bantarjati', 'Bogor_Tengah', 'Baranangsiang'], ['Tanah_Sareal', 'Bogor_Utara', 'Cimahpar']]\n",
            "stack [['Tanah_Sareal', 'Bogor_Utara', 'Bantarjati', 'Bogor_Tengah', 'Baranangsiang'], ['Tanah_Sareal', 'Bogor_Utara', 'Cimahpar']]\n",
            "stack [['Tanah_Sareal', 'Bogor_Utara', 'Cimahpar']]\n",
            "stack [['Tanah_Sareal', 'Bogor_Utara', 'Cimahpar', 'Bogor_Timur']]\n",
            "stack [['Tanah_Sareal', 'Bogor_Utara', 'Cimahpar', 'Bogor_Timur', 'Ranggamekar'], ['Tanah_Sareal', 'Bogor_Utara', 'Cimahpar', 'Bogor_Timur', 'Sindangrasa']]\n",
            "stack [['Tanah_Sareal', 'Bogor_Utara', 'Cimahpar', 'Bogor_Timur', 'Ranggamekar', 'Bogor_Selatan'], ['Tanah_Sareal', 'Bogor_Utara', 'Cimahpar', 'Bogor_Timur', 'Sindangrasa']]\n",
            "stack [['Tanah_Sareal', 'Bogor_Utara', 'Cimahpar', 'Bogor_Timur', 'Ranggamekar', 'Bogor_Selatan', 'Pamoyaman'], ['Tanah_Sareal', 'Bogor_Utara', 'Cimahpar', 'Bogor_Timur', 'Ranggamekar', 'Bogor_Selatan', 'Kertamaya'], ['Tanah_Sareal', 'Bogor_Utara', 'Cimahpar', 'Bogor_Timur', 'Sindangrasa']]\n",
            "stack [['Tanah_Sareal', 'Bogor_Utara', 'Cimahpar', 'Bogor_Timur', 'Ranggamekar', 'Bogor_Selatan', 'Kertamaya'], ['Tanah_Sareal', 'Bogor_Utara', 'Cimahpar', 'Bogor_Timur', 'Sindangrasa']]\n",
            "The path is : ['Tanah_Sareal', 'Bogor_Utara', 'Cimahpar', 'Bogor_Timur', 'Ranggamekar', 'Bogor_Selatan', 'Kertamaya']\n"
          ]
        }
      ],
      "source": [
        "def dfsPath(graph,start,goal):\n",
        "    stack = [[start]]\n",
        "    visited = []\n",
        "\n",
        "\n",
        "    while stack:\n",
        "        print(\"stack\", stack)\n",
        "        path= stack.pop(0)\n",
        "        node = path [-1]\n",
        "        if node == goal:\n",
        "            return print(\"The path is :\", path)\n",
        "\n",
        "\n",
        "        children = graph[node]\n",
        "        for child in children:\n",
        "            if child not in visited:\n",
        "              newPath = path + [child]\n",
        "              stack.insert(0, newPath)\n",
        "              visited.append(child)\n",
        "\n",
        "\n",
        "dfsPath (graph1,'Tanah_Sareal','Kertamaya')"
      ]
    }
  ]
}